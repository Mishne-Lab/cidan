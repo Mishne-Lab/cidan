{
 "cells": [
  {
   "cell_type": "code",
   "execution_count": 1,
   "metadata": {},
   "outputs": [
    {
     "data": {
      "text/plain": [
       "'\\nCreated on Tue May  7 16:50:14 2019\\nFor filenames in the folder, load in ground truth1|2 json\\nrun lt_evaluate on all ROilist files, export as a pandas table\\n@author: lan\\n'"
      ]
     },
     "execution_count": 1,
     "metadata": {},
     "output_type": "execute_result"
    }
   ],
   "source": [
    "\"\"\"\n",
    "Created on Tue May  7 16:50:14 2019\n",
    "For filenames in the folder, load in ground truth1|2 json\n",
    "run lt_evaluate on all ROilist files, export as a pandas table\n",
    "@author: lan\n",
    "\"\"\""
   ]
  },
  {
   "cell_type": "code",
   "execution_count": 1,
   "metadata": {},
   "outputs": [],
   "source": [
    "import os\n",
    "import json\n",
    "import numpy as np\n",
    "from neurofinder import centers, shapes\n",
    "import pandas as pd\n",
    "import re\n",
    "from regional import one, many"
   ]
  },
  {
   "cell_type": "code",
   "execution_count": 2,
   "metadata": {},
   "outputs": [],
   "source": [
    "def load(file):\n",
    "    \"\"\"\n",
    "    Load neuronal regions from a file or string.\n",
    "    \"\"\"\n",
    "    if os.path.isfile(file):\n",
    "        with open(file, 'r') as f:\n",
    "            values = json.load(f)\n",
    "    else:\n",
    "        values = json.loads(file)\n",
    "    \n",
    "    if type(values) is dict:\n",
    "        values=[values]\n",
    "    if len(values)>0 and 'coordinates' in values[0].keys():\n",
    "        return many([v['coordinates'] for v in values])\n",
    "    else:\n",
    "        return 0"
   ]
  },
  {
   "cell_type": "code",
   "execution_count": 3,
   "metadata": {},
   "outputs": [],
   "source": [
    "def lt_evaluate(file1,file2,threshold=5):\n",
    "    a = load(file1)\n",
    "    b = load(file2)\n",
    "    if a!=0 and b!=0:\n",
    "        recall, precision = centers(a, b, threshold=threshold)\n",
    "        inclusion, exclusion = shapes(a, b, threshold=threshold)\n",
    "\n",
    "        if recall == 0 and precision == 0:\n",
    "            combined = 0\n",
    "        else:\n",
    "            combined = 2 * (recall * precision) / (recall + precision)\n",
    "    \n",
    "        result = {'combined': round(combined, 4), 'inclusion': round(inclusion, 4), 'precision': round(precision, 4), 'recall': round(recall, 4), 'exclusion': round(exclusion, 4)}\n",
    "        return(result)\n",
    "    else:\n",
    "        return {'combined': np.nan, 'inclusion': np.nan, 'precision': np.nan, 'recall': np.nan, 'exclusion': np.nan}"
   ]
  },
  {
   "cell_type": "code",
   "execution_count": 61,
   "metadata": {},
   "outputs": [],
   "source": [
    "figsize=[256,256]\n",
    "pathname=\"/Users/mishne/Dropbox/Yale/data/Imaging Analysis Group/Older/\"\n",
    "pathname_labels=\"/Users/mishne/Dropbox/Yale/data/Imaging Analysis Group/Older/2pROI-sum/\"\n",
    "pathname_lssc=\"/Users/mishne/Dropbox/Yale/data/Imaging Analysis Group/Older/LSSC_results/2p_ROI/\""
   ]
  },
  {
   "cell_type": "code",
   "execution_count": 8,
   "metadata": {},
   "outputs": [],
   "source": [
    "videos = []\n",
    "for r, d, f in os.walk(pathname): # r=root, d=directories, f = files\n",
    "    for file in f:\n",
    "        if '.tif' in file: #extract file names\n",
    "            videos.append(os.path.join(file[0:-4]))"
   ]
  },
  {
   "cell_type": "code",
   "execution_count": 9,
   "metadata": {},
   "outputs": [
    {
     "data": {
      "text/plain": [
       "['File1_CPn_l5_gcamp6s_lan',\n",
       " 'File2_CSt_l5_gcamp6s_lan',\n",
       " 'File3_kf139_s',\n",
       " 'File4_kf158_s',\n",
       " 'File5_l23_gcamp6s_lan',\n",
       " 'File6_som_l5_gcamp6s_alka']"
      ]
     },
     "execution_count": 9,
     "metadata": {},
     "output_type": "execute_result"
    }
   ],
   "source": [
    "videos"
   ]
  },
  {
   "cell_type": "code",
   "execution_count": 14,
   "metadata": {},
   "outputs": [
    {
     "name": "stdout",
     "output_type": "stream",
     "text": [
      "CPn_l5_gcamp6s_lan_ROIlist.json\n",
      "CSt_l5_gcamp6s_lan_ROIlist.json\n",
      "kf139_s_ROIlist.json\n",
      "kf158_s_ROIlist.json\n",
      "l23_gcamp6s_lan_ROIlist.json\n",
      "som_l5_gcamp6s_alka_ROIlist.json\n"
     ]
    }
   ],
   "source": [
    "for v in videos:\n",
    "    print(v[6:]+'_ROIlist.json')"
   ]
  },
  {
   "cell_type": "code",
   "execution_count": 22,
   "metadata": {},
   "outputs": [
    {
     "name": "stdout",
     "output_type": "stream",
     "text": [
      "/Users/mishne/Dropbox/Yale/data/Imaging Analysis Group/Files for GUI analysis/GroundTruth/File1_CPn_l5_gcamp6s_lan_all_intersect.json\n",
      "/Users/mishne/Dropbox/Yale/data/Imaging Analysis Group/Files for GUI analysis/GroundTruth/File1_CPn_l5_gcamp6s_lan_all_uniion.json\n",
      "/Users/mishne/Dropbox/Yale/data/Imaging Analysis Group/Files for GUI analysis/GroundTruth/File2_CSt_l5_gcamp6s_lan_all_intersect.json\n",
      "/Users/mishne/Dropbox/Yale/data/Imaging Analysis Group/Files for GUI analysis/GroundTruth/File2_CSt_l5_gcamp6s_lan_all_uniion.json\n",
      "/Users/mishne/Dropbox/Yale/data/Imaging Analysis Group/Files for GUI analysis/GroundTruth/File3_kf139_s_all_intersect.json\n",
      "/Users/mishne/Dropbox/Yale/data/Imaging Analysis Group/Files for GUI analysis/GroundTruth/File3_kf139_s_all_uniion.json\n",
      "/Users/mishne/Dropbox/Yale/data/Imaging Analysis Group/Files for GUI analysis/GroundTruth/File4_kf158_s_all_intersect.json\n",
      "/Users/mishne/Dropbox/Yale/data/Imaging Analysis Group/Files for GUI analysis/GroundTruth/File4_kf158_s_all_uniion.json\n",
      "/Users/mishne/Dropbox/Yale/data/Imaging Analysis Group/Files for GUI analysis/GroundTruth/File5_l23_gcamp6s_lan_all_intersect.json\n",
      "/Users/mishne/Dropbox/Yale/data/Imaging Analysis Group/Files for GUI analysis/GroundTruth/File5_l23_gcamp6s_lan_all_uniion.json\n",
      "/Users/mishne/Dropbox/Yale/data/Imaging Analysis Group/Files for GUI analysis/GroundTruth/File6_som_l5_gcamp6s_alka_all_intersect.json\n",
      "/Users/mishne/Dropbox/Yale/data/Imaging Analysis Group/Files for GUI analysis/GroundTruth/File6_som_l5_gcamp6s_alka_all_uniion.json\n"
     ]
    }
   ],
   "source": [
    "for v in videos:\n",
    "    # load in ground truth\n",
    "    GT_int=pathname+'GroundTruth/'+v+'_all_intersect.json'\n",
    "    GT_uni=pathname+'GroundTruth/'+v+'_all_uniion.json'\n",
    "    \n",
    "    print(GT_int)\n",
    "    print(GT_uni)"
   ]
  },
  {
   "cell_type": "code",
   "execution_count": 67,
   "metadata": {},
   "outputs": [
    {
     "name": "stdout",
     "output_type": "stream",
     "text": [
      "File1_CPn_l5_gcamp6s_lan\n",
      "  source  combined  precision  recall  exclusion  inclusion\n",
      "0   alka    0.7500     0.9231  0.6316     0.9790     0.6662\n",
      "1    dan    0.7708     0.9487  0.6491     0.9966     0.3142\n",
      "2  Katie    0.7500     0.9231  0.6316     0.9904     0.4252\n",
      "3    lan    0.8468     0.8704  0.8246     0.9279     0.6316\n",
      "File2_CSt_l5_gcamp6s_lan\n",
      "  source  combined  precision  recall  exclusion  inclusion\n",
      "0   alka    0.6341     0.9630  0.4727     0.9587     0.7379\n",
      "1    dan    0.6265     0.9286  0.4727     0.9801     0.5396\n",
      "2  Katie    0.6744     0.9355  0.5273     0.9830     0.4811\n",
      "3    lan    0.7835     0.9048  0.6909     0.9397     0.7335\n",
      "File3_kf139_s\n",
      "  source  combined  precision  recall  exclusion  inclusion\n",
      "0   alka    0.8649     1.0000  0.7619     0.9603     0.7848\n",
      "1    dan    0.7895     0.8824  0.7143     0.9854     0.4614\n",
      "2  Katie    0.8333     1.0000  0.7143     0.9673     0.5255\n",
      "3    lan    0.8421     0.9412  0.7619     0.9327     0.8935\n",
      "File4_kf158_s\n",
      "  source  combined  precision  recall  exclusion  inclusion\n",
      "0   alka    0.4813     0.9574  0.3214     0.9631     0.5966\n",
      "1    dan    0.6250     0.9559  0.4643     0.9822     0.2759\n",
      "2  Katie    0.6881     0.9615  0.5357     0.9337     0.4045\n",
      "3    lan    0.6698     0.9861  0.5071     0.9409     0.6406\n",
      "File5_l23_gcamp6s_lan\n",
      "  source  combined  precision  recall  exclusion  inclusion\n",
      "0   alka    0.5854     1.0000  0.4138     0.9526     0.6211\n",
      "1    dan    0.7407     0.9589  0.6034     0.9607     0.2826\n",
      "2  Katie    0.7629     0.9487  0.6379     0.9436     0.4151\n",
      "3    lan    0.8119     0.9535  0.7069     0.9216     0.6293\n",
      "File6_som_l5_gcamp6s_alka\n",
      "  source  combined  precision  recall  exclusion  inclusion\n",
      "0   alka    0.8519        1.0  0.7419     0.9332     0.8289\n",
      "1    dan    0.8519        1.0  0.7419     0.9708     0.4686\n",
      "2  Katie    0.8519        1.0  0.7419     0.9685     0.4532\n",
      "3    lan    0.8519        1.0  0.7419     0.9496     0.8278\n"
     ]
    }
   ],
   "source": [
    "for v in videos:\n",
    "    # load in ground truth\n",
    "    GT_int=pathname+'GroundTruth/'+v+'_all_intersect.json'\n",
    "    GT_uni=pathname+'GroundTruth/'+v+'_all_union.json'\n",
    "    \n",
    "    # declare result matrix\n",
    "    res_intersect=[]\n",
    "    res_union=[]\n",
    "    # search through all files generated by the algorithm\n",
    "    for r,d,f in os.walk(pathname_labels):\n",
    "        for file in f:\n",
    "            name = v[6:]+'_ROIlist.json'\n",
    "            if (name in file):\n",
    "                source=(os.path.split(r)[1])\n",
    "                \n",
    "                currentfilename=os.path.join(r,file)\n",
    "                #print(currentfilename)\n",
    "                result=lt_evaluate(GT_int,currentfilename,10)\n",
    "                result.update(dict(zip(['source'],[source])))\n",
    "                res_intersect.append(result)\n",
    "                \n",
    "                result=lt_evaluate(GT_uni,currentfilename,10)\n",
    "                result.update(dict(zip(['source'],[source])))\n",
    "                res_union.append(result)\n",
    "    print(v)\n",
    "    #print(\"Comparison to intersection GT\")\n",
    "    #print(res_intersect)\n",
    "    \n",
    "    df=pd.DataFrame(res_intersect)\n",
    "    df=df[['source','combined','precision','recall','exclusion','inclusion']]\n",
    "    print(df)\n",
    "    #print(\"Compariosn to union GT\")\n",
    "    #print(res_union)\n",
    "                "
   ]
  },
  {
   "cell_type": "code",
   "execution_count": 64,
   "metadata": {},
   "outputs": [
    {
     "name": "stdout",
     "output_type": "stream",
     "text": [
      "CPn_l5_gcamp6s_lan\n",
      "CSt_l5_gcamp6s_lan\n",
      "kf139_s\n",
      "kf158_s\n",
      "l23_gcamp6s_lan\n",
      "som_l5_gcamp6s_alka\n"
     ]
    }
   ],
   "source": [
    "pathname_lssc=\"/Users/mishne/Dropbox/Yale/data/Imaging Analysis Group/Older/LSSC_results/2p_ROI/\"\n",
    "\n",
    "for v in videos:\n",
    "    # load in ground truth\n",
    "    GT_int=pathname+'GroundTruth/'+v+'_all_intersect.json'\n",
    "    GT_uni=pathname+'GroundTruth/'+v+'_all_union.json'\n",
    "    \n",
    "    # declare result matrix\n",
    "    res_intersect=[]\n",
    "    # search through all files generated by the algorithm\n",
    "    for r,d,f in os.walk(pathname_lssc):\n",
    "        name = v[6:]\n",
    "        print(name)\n",
    "        for file in f:\n",
    "            if (name in file) and ('json' in file):\n",
    "                currentfilename=os.path.join(r,file)\n",
    "                \n",
    "                # extract processing parameters\n",
    "                para=re.findall('preproc\\_(.*?)\\_normal\\_(.*?)\\_pca\\_(.*?)\\_ntrial\\_(.*?)\\_neig\\_(.*?)\\_nclust\\_(.*?)\\_out',\\\n",
    "                           currentfilename)\n",
    "                para=[int(x) for x in para[0]]               \n",
    "                parameters=dict(zip(['preproc','normal','pca','ntrial','neig','nclust'],para))\n",
    "                \n",
    "                result=lt_evaluate(GT_int,currentfilename,10)\n",
    "                result.update(parameters)\n",
    "                res_intersect.append(result)\n",
    "                \n",
    "                #result=lt_evaluate(GT_uni,currentfilename,15)\n",
    "                #result.update(parameters)\n",
    "                #res_union.append(result)\n",
    "    \n",
    "    df=pd.DataFrame(res_intersect)\n",
    "    df=df[['preproc','normal','pca','ntrial','neig','nclust','combined','precision','recall','exclusion','inclusion']]\n",
    "    df.to_csv(pathname+'/Results//'+v+'_GT_int_result.csv')\n",
    "\n",
    "    #df=pd.DataFrame(res_union)\n",
    "    #df=df[['preproc','normal','pca','ntrial','neig','nclust','combined','precision','recall','exclusion','inclusion']]   \n",
    "    #df.to_csv(pathname+'Results\\\\'+v+'_GT_uni_result.csv')"
   ]
  },
  {
   "cell_type": "code",
   "execution_count": 68,
   "metadata": {},
   "outputs": [
    {
     "name": "stdout",
     "output_type": "stream",
     "text": [
      "File1_CPn_l5_gcamp6s_lan\n",
      "    source  combined  precision  recall  exclusion  inclusion\n",
      "0  suite2p    0.6882     0.8889  0.5614     0.8651     0.9594\n",
      "File2_CSt_l5_gcamp6s_lan\n",
      "    source  combined  precision  recall  exclusion  inclusion\n",
      "0  suite2p    0.3889     0.8235  0.2545     0.8131     0.9645\n",
      "File3_kf139_s\n",
      "    source  combined  precision  recall  exclusion  inclusion\n",
      "0  suite2p    0.1667        0.2  0.1429     0.2585     0.9963\n",
      "File4_kf158_s\n",
      "    source  combined  precision  recall  exclusion  inclusion\n",
      "0  suite2p    0.8188     0.8309  0.8071     0.8329     0.9129\n",
      "File5_l23_gcamp6s_lan\n",
      "    source  combined  precision  recall  exclusion  inclusion\n",
      "0  suite2p    0.6923     0.9545  0.5431     0.9002     0.8892\n",
      "File6_som_l5_gcamp6s_alka\n",
      "    source  combined  precision  recall  exclusion  inclusion\n",
      "0  suite2p    0.2286        1.0   0.129     0.8081     0.8901\n"
     ]
    }
   ],
   "source": [
    "pathname_suite2p = \"/Users/mishne/Dropbox/Yale/data/Imaging Analysis Group/Older/Suite2p_dan/\"\n",
    "\n",
    "for v in videos:\n",
    "    # load in ground truth\n",
    "    GT_int=pathname+'GroundTruth/'+v+'_all_intersect.json'\n",
    "    GT_uni=pathname+'GroundTruth/'+v+'_all_union.json'\n",
    "    \n",
    "    # declare result matrix\n",
    "    res_intersect=[]\n",
    "    res_union=[]\n",
    "    # search through all files generated by the algorithm\n",
    "    for r,d,f in os.walk(pathname_suite2p):\n",
    "        for file in f:\n",
    "            name = v[6:]+'_suite2p_ROIlist.json'\n",
    "            if (name in file):\n",
    "                source=\"suite2p\"\n",
    "                \n",
    "                currentfilename=os.path.join(r,file)\n",
    "                #print(currentfilename)\n",
    "                result=lt_evaluate(GT_int,currentfilename,10)\n",
    "                result.update(dict(zip(['source'],[source])))\n",
    "                res_intersect.append(result)\n",
    "                \n",
    "                result=lt_evaluate(GT_uni,currentfilename,10)\n",
    "                result.update(dict(zip(['source'],[source])))\n",
    "                res_union.append(result)\n",
    "    print(v)\n",
    "    #print(\"Comparison to intersection GT\")\n",
    "    #print(res_intersect)\n",
    "    \n",
    "    df=pd.DataFrame(res_intersect)\n",
    "    df=df[['source','combined','precision','recall','exclusion','inclusion']]\n",
    "    print(df)\n",
    "    #print(\"Compariosn to union GT\")\n",
    "    #print(res_union)"
   ]
  },
  {
   "cell_type": "code",
   "execution_count": null,
   "metadata": {},
   "outputs": [],
   "source": []
  }
 ],
 "metadata": {
  "kernelspec": {
   "display_name": "Python 3",
   "language": "python",
   "name": "python3"
  },
  "language_info": {
   "codemirror_mode": {
    "name": "ipython",
    "version": 3
   },
   "file_extension": ".py",
   "mimetype": "text/x-python",
   "name": "python",
   "nbconvert_exporter": "python",
   "pygments_lexer": "ipython3",
   "version": "3.7.3"
  }
 },
 "nbformat": 4,
 "nbformat_minor": 2
}
